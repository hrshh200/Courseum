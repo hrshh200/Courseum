{
  "nbformat": 4,
  "nbformat_minor": 0,
  "metadata": {
    "colab": {
      "provenance": [],
      "mount_file_id": "1_v1ihM66TTbO9CHwRAMkNIAaJaw7Ce6K",
      "authorship_tag": "ABX9TyMBOrac2NpDdA9g5xw6OqH6",
      "include_colab_link": true
    },
    "kernelspec": {
      "name": "python3",
      "display_name": "Python 3"
    },
    "language_info": {
      "name": "python"
    }
  },
  "cells": [
    {
      "cell_type": "markdown",
      "metadata": {
        "id": "view-in-github",
        "colab_type": "text"
      },
      "source": [
        "<a href=\"https://colab.research.google.com/github/hrshh200/Courseum/blob/main/Image_classification_using_CNN.ipynb\" target=\"_parent\"><img src=\"https://colab.research.google.com/assets/colab-badge.svg\" alt=\"Open In Colab\"/></a>"
      ]
    },
    {
      "cell_type": "markdown",
      "source": [
        "Image Classification using CNN"
      ],
      "metadata": {
        "id": "juhxdTK2bizX"
      }
    },
    {
      "cell_type": "code",
      "source": [
        "import numpy as np\n",
        "import random\n",
        "from tensorflow import keras\n"
      ],
      "metadata": {
        "id": "SJezTYEmbRlY"
      },
      "execution_count": 2,
      "outputs": []
    },
    {
      "cell_type": "code",
      "source": [
        "from keras.models import Sequential"
      ],
      "metadata": {
        "id": "BRmw-BY_cSWN"
      },
      "execution_count": 3,
      "outputs": []
    },
    {
      "cell_type": "code",
      "source": [
        "from keras.layers import Conv2D, MaxPooling2D, Dense, Flatten"
      ],
      "metadata": {
        "id": "eixmVrMtcWpy"
      },
      "execution_count": 4,
      "outputs": []
    },
    {
      "cell_type": "markdown",
      "source": [
        "**Importing datasets of dogs and cats**"
      ],
      "metadata": {
        "id": "8emekk11c0sN"
      }
    },
    {
      "cell_type": "code",
      "source": [],
      "metadata": {
        "id": "toQzRiLGesue"
      },
      "execution_count": null,
      "outputs": []
    },
    {
      "cell_type": "code",
      "source": [
        "from google.colab import drive\n",
        "drive.mount('/content/drive')"
      ],
      "metadata": {
        "colab": {
          "base_uri": "https://localhost:8080/"
        },
        "id": "zjL4fBhQjb7M",
        "outputId": "0cd8fe56-875d-46af-cec9-bd5a74000e7e"
      },
      "execution_count": 5,
      "outputs": [
        {
          "output_type": "stream",
          "name": "stdout",
          "text": [
            "Drive already mounted at /content/drive; to attempt to forcibly remount, call drive.mount(\"/content/drive\", force_remount=True).\n"
          ]
        }
      ]
    },
    {
      "cell_type": "code",
      "source": [
        "X_train = np.loadtxt('/content/drive/MyDrive/Google Colab/input.csv', delimiter = ',')"
      ],
      "metadata": {
        "id": "B0x1DTgyjtZd"
      },
      "execution_count": 6,
      "outputs": []
    },
    {
      "cell_type": "code",
      "source": [
        "X_test = np.loadtxt('/content/drive/MyDrive/Google Colab/input_test.csv', delimiter = ',')"
      ],
      "metadata": {
        "id": "gKsx8oZSpNSb"
      },
      "execution_count": 7,
      "outputs": []
    },
    {
      "cell_type": "code",
      "source": [
        "Y_train = np.loadtxt('/content/drive/MyDrive/Google Colab/labels.csv', delimiter = ',')"
      ],
      "metadata": {
        "id": "MC7bZ1lqdRdg"
      },
      "execution_count": 8,
      "outputs": []
    },
    {
      "cell_type": "code",
      "source": [
        "Y_test = np.loadtxt('/content/drive/MyDrive/Google Colab/labels_test.csv', delimiter = ',')"
      ],
      "metadata": {
        "id": "vcoRdwttdcGd"
      },
      "execution_count": 9,
      "outputs": []
    },
    {
      "cell_type": "markdown",
      "source": [],
      "metadata": {
        "id": "n8Ww8Q1jdRLH"
      }
    },
    {
      "cell_type": "markdown",
      "source": [],
      "metadata": {
        "id": "GC4MgLqoqf6x"
      }
    },
    {
      "cell_type": "markdown",
      "source": [
        "Reshaping the numpy array to 100x100x3 matrix"
      ],
      "metadata": {
        "id": "0EssS2BmqhG4"
      }
    },
    {
      "cell_type": "code",
      "source": [
        "X_train = X_train.reshape(len(X_train), 100,100,3)\n",
        "X_test= X_test.reshape(len(X_test),100,100,3)\n",
        "\n",
        "Y_train = Y_train.reshape(len(Y_train), 1)\n",
        "Y_test= Y_test.reshape(len(Y_test),1)"
      ],
      "metadata": {
        "id": "ak-Ihgsqqluk"
      },
      "execution_count": 10,
      "outputs": []
    },
    {
      "cell_type": "code",
      "source": [
        "import matplotlib.pyplot as plt\n",
        "\n",
        "rd= random.randint(0, len(X_train))\n",
        "plt.imshow(X_train[rd,:])\n",
        "plt.show()"
      ],
      "metadata": {
        "colab": {
          "base_uri": "https://localhost:8080/",
          "height": 450
        },
        "id": "iTy5UYKfrwj6",
        "outputId": "6a78f749-0fac-4e60-df4e-04fb16a97f52"
      },
      "execution_count": 11,
      "outputs": [
        {
          "output_type": "stream",
          "name": "stderr",
          "text": [
            "WARNING:matplotlib.image:Clipping input data to the valid range for imshow with RGB data ([0..1] for floats or [0..255] for integers).\n"
          ]
        },
        {
          "output_type": "display_data",
          "data": {
            "text/plain": [
              "<Figure size 640x480 with 1 Axes>"
            ],
            "image/png": "[encoded data removed]"
          },
          "metadata": {}
        }
      ]
    },
    {
      "cell_type": "markdown",
      "source": [
        "Creating model"
      ],
      "metadata": {
        "id": "q7JjgM41wCUx"
      }
    },
    {
      "cell_type": "code",
      "source": [
        "model= Sequential([\n",
        "      Conv2D(32, (3,3), activation ='relu', input_shape =(100,100,3)),\n",
        "      MaxPooling2D((2,2)),\n",
        "\n",
        "      Conv2D(32, (3,3), activation ='relu'),\n",
        "      MaxPooling2D((2,2)),\n",
        "\n",
        "      Flatten(),\n",
        "      Dense(64, activation ='relu'),\n",
        "      Dense(1, activation='sigmoid')\n",
        "\n",
        "])"
      ],
      "metadata": {
        "id": "gDTodGbNwEcv"
      },
      "execution_count": 12,
      "outputs": []
    },
    {
      "cell_type": "code",
      "source": [
        "model.compile(loss='binary_crossentropy' ,optimizer= 'adam', metrics=['accuracy'])"
      ],
      "metadata": {
        "id": "pj8r5m_gw6wE"
      },
      "execution_count": 13,
      "outputs": []
    },
    {
      "cell_type": "code",
      "source": [
        "model.fit(X_train, Y_train, epochs=5, batch_size= 64)"
      ],
      "metadata": {
        "colab": {
          "base_uri": "https://localhost:8080/"
        },
        "id": "zkPiWR7KxTOM",
        "outputId": "27041267-6579-4898-a6e2-8664c952d255"
      },
      "execution_count": 15,
      "outputs": [
        {
          "output_type": "stream",
          "name": "stdout",
          "text": [
            "Epoch 1/5\n",
            "32/32 [==============================] - 22s 698ms/step - loss: 0.2563 - accuracy: 0.8945\n",
            "Epoch 2/5\n",
            "32/32 [==============================] - 22s 680ms/step - loss: 0.1644 - accuracy: 0.9435\n",
            "Epoch 3/5\n",
            "32/32 [==============================] - 22s 699ms/step - loss: 0.1059 - accuracy: 0.9680\n",
            "Epoch 4/5\n",
            "32/32 [==============================] - 21s 645ms/step - loss: 0.0689 - accuracy: 0.9790\n",
            "Epoch 5/5\n",
            "32/32 [==============================] - 22s 701ms/step - loss: 0.0562 - accuracy: 0.9835\n"
          ]
        },
        {
          "output_type": "execute_result",
          "data": {
            "text/plain": [
              "<keras.src.callbacks.History at 0x7b2886c84d60>"
            ]
          },
          "metadata": {},
          "execution_count": 15
        }
      ]
    },
    {
      "cell_type": "code",
      "source": [
        "model.evaluate(X_test, Y_test)"
      ],
      "metadata": {
        "colab": {
          "base_uri": "https://localhost:8080/"
        },
        "id": "D_Iu4nKF5Wh8",
        "outputId": "57369174-76d3-498e-ed8a-616a8c5d78c1"
      },
      "execution_count": 16,
      "outputs": [
        {
          "output_type": "stream",
          "name": "stdout",
          "text": [
            "13/13 [==============================] - 1s 92ms/step - loss: 1.4353 - accuracy: 0.6200\n"
          ]
        },
        {
          "output_type": "execute_result",
          "data": {
            "text/plain": [
              "[1.4352867603302002, 0.6200000047683716]"
            ]
          },
          "metadata": {},
          "execution_count": 16
        }
      ]
    },
    {
      "cell_type": "code",
      "source": [
        "image_random= random.randint(0, len(Y_train))\n",
        "\n",
        "plt.imshow(X_train[image_random, :])\n",
        "plt.show()\n",
        "\n",
        "y_pred= model.predict(X_train[image_random,:].reshape(1,100,100,3))\n",
        "y_pred = y_pred > 0.5\n",
        "\n",
        "if(y_pred==0):\n",
        "  print(\"The image contains dog\")\n",
        "else:\n",
        "  print(\"The image contains cat\")"
      ],
      "metadata": {
        "colab": {
          "base_uri": "https://localhost:8080/",
          "height": 485
        },
        "id": "L0sU3N5D5zeD",
        "outputId": "e056598e-7c92-490f-b516-081ce56c864d"
      },
      "execution_count": 19,
      "outputs": [
        {
          "output_type": "stream",
          "name": "stderr",
          "text": [
            "WARNING:matplotlib.image:Clipping input data to the valid range for imshow with RGB data ([0..1] for floats or [0..255] for integers).\n"
          ]
        },
        {
          "output_type": "display_data",
          "data": {
            "text/plain": [
              "<Figure size 640x480 with 1 Axes>"
            ],
            "image/png": "[encoded data removed]"
          },
          "metadata": {}
        },
        {
          "output_type": "stream",
          "name": "stdout",
          "text": [
            "1/1 [==============================] - 0s 52ms/step\n",
            "The image contains dog\n"
          ]
        }
      ]
    },
    {
      "cell_type": "code",
      "source": [],
      "metadata": {
        "id": "Itk4HsqT6OdL"
      },
      "execution_count": null,
      "outputs": []
    }
  ]
}